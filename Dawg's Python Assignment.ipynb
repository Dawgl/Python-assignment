{
 "cells": [
  {
   "cell_type": "markdown",
   "id": "17b2461f",
   "metadata": {},
   "source": [
    "# Assignment 1"
   ]
  },
  {
   "cell_type": "code",
   "execution_count": 2,
   "id": "39dd3f80",
   "metadata": {},
   "outputs": [
    {
     "name": "stdout",
     "output_type": "stream",
     "text": [
      "42\n"
     ]
    }
   ],
   "source": [
    "import random\n",
    "random_num = random.randint(0,50)\n",
    "print(random_num)"
   ]
  },
  {
   "cell_type": "code",
   "execution_count": 3,
   "id": "a01833d8",
   "metadata": {},
   "outputs": [
    {
     "name": "stdout",
     "output_type": "stream",
     "text": [
      "[5, 3, 6, 6, 3, 5, 4, 5, 4, 4, 3, 6, 4, 5, 6, 4, 5, 5, 5, 3, 5, 3, 3, 3, 3, 6, 5, 3, 6, 5, 5, 4, 3, 3, 5, 4, 5, 4, 3, 3, 5, 4, 3, 3, 4, 5, 6, 6, 3, 6]\n"
     ]
    }
   ],
   "source": [
    "#1 write a program that generates and prints 50 random integers, each between 3 and 6\n",
    "import random\n",
    "fifty_int = []\n",
    "for i in range(0, 50):\n",
    "    random_num = random.randint(3,6)\n",
    "    fifty_int.append(random_num)\n",
    "print(fifty_int)"
   ]
  },
  {
   "cell_type": "code",
   "execution_count": 23,
   "id": "da2bcc5e",
   "metadata": {},
   "outputs": [
    {
     "name": "stdout",
     "output_type": "stream",
     "text": [
      "22\n",
      "2\n",
      "484\n"
     ]
    }
   ],
   "source": [
    "#2 python write  program that generates a random number, x between 1 and 50 and random number, y between  2 and 5, and computes x^y\n",
    "random_number = []\n",
    "x = random.randint(1, 50)\n",
    "y = random.randint(2, 5)\n",
    "\n",
    "print(x)\n",
    "print(y)\n",
    "print(x**y)"
   ]
  },
  {
   "cell_type": "code",
   "execution_count": 53,
   "id": "e8f2f118",
   "metadata": {},
   "outputs": [
    {
     "name": "stdout",
     "output_type": "stream",
     "text": [
      "4\n",
      "Douglas\n",
      "Douglas\n",
      "Douglas\n",
      "Douglas\n"
     ]
    }
   ],
   "source": [
    "#3 write a program that generates a random number between 1 and 10 that prints your name many times\n",
    "x = random.randint(1, 10)\n",
    "print(x)\n",
    "for i in range(x):\n",
    "    print(\"Douglas\")"
   ]
  },
  {
   "cell_type": "code",
   "execution_count": 11,
   "id": "62954c32",
   "metadata": {},
   "outputs": [
    {
     "data": {
      "text/plain": [
       "4.06"
      ]
     },
     "execution_count": 11,
     "metadata": {},
     "output_type": "execute_result"
    }
   ],
   "source": [
    "#4 write a programe that generates a random decimal number between 1 and 10 with two decimal places of accurancy\n",
    "round(random.uniform(1, 10), 2)"
   ]
  },
  {
   "cell_type": "code",
   "execution_count": 26,
   "id": "3b61892d",
   "metadata": {},
   "outputs": [
    {
     "name": "stdout",
     "output_type": "stream",
     "text": [
      "(1, 1, 4, 32)\n"
     ]
    }
   ],
   "source": [
    "#5 write a that generates 50 random numbers such that the first number is between 1 and 2, the second is between 1 and 3, third between 1 and 4 and the last between 1 and 51\n",
    "import random\n",
    "a = random.randint(1, 2)\n",
    "b = random.randint(1, 3)\n",
    "c = random.randint(1, 4)\n",
    "d = random.randint(1, 51)\n",
    "#for i in range(51):\n",
    "        #a = random.randint(1, i + 1)\n",
    "        #random_int.append(a)\n",
    "#print(random_int)\n",
    "x = (a,b,c,d)\n",
    "print(x)"
   ]
  },
  {
   "cell_type": "code",
   "execution_count": 33,
   "id": "c187fa8f",
   "metadata": {},
   "outputs": [
    {
     "name": "stdout",
     "output_type": "stream",
     "text": [
      "Enter number x: 20\n",
      "Enter number y: 10\n",
      "The answer to your question:  0.33\n"
     ]
    }
   ],
   "source": [
    "#6 write a program that asks the user to enter two numbers, x and y, and computes [|x-y|/x+y]\n",
    "x = int(input( \"Enter number x: \"))\n",
    "y = int(input( \"Enter number y: \"))\n",
    "#print(x)\n",
    "#print(y)\n",
    "z = round((x-y)/(x+y), 2)\n",
    "print(f\"The answer to your question: \", z) "
   ]
  },
  {
   "cell_type": "code",
   "execution_count": null,
   "id": "b2056528",
   "metadata": {},
   "outputs": [],
   "source": [
    "while(True):\n",
    "    in_num = int(input(\"enter a number: \"))\n",
    "    if in_num not in range(-180,180):\n",
    "        print(\"enter a valid number between -180 and 180\")\n",
    "    if in_num in range(-180,180):\n",
    "        print(in_num%360)\n",
    "else: do_you_logic()"
   ]
  },
  {
   "cell_type": "markdown",
   "id": "fbec7875",
   "metadata": {},
   "source": [
    "# Assignment 2"
   ]
  },
  {
   "cell_type": "code",
   "execution_count": 7,
   "id": "364a41b5",
   "metadata": {
    "scrolled": true
   },
   "outputs": [
    {
     "name": "stdout",
     "output_type": "stream",
     "text": [
      "Enter number of seconds: 250\n",
      "0:04:10\n"
     ]
    }
   ],
   "source": [
    "#8 Write a program that asks the user for a number of seconds\n",
    "\n",
    "def convert(seconds):\n",
    "    seconds = seconds % (24 * 3600) \n",
    "    hour = seconds // 3600\n",
    "    seconds %= 3600\n",
    "    minutes = seconds // 60\n",
    "    seconds %= 60\n",
    "    return \"%d:%02d:%02d\" % (hour, minutes, seconds)\n",
    "# prints out how many minutes and seconds that is\n",
    "n = int(input( \"Enter number of seconds: \"))\n",
    "print(convert(n))\n"
   ]
  },
  {
   "cell_type": "code",
   "execution_count": 41,
   "id": "12f82451",
   "metadata": {},
   "outputs": [
    {
     "name": "stdout",
     "output_type": "stream",
     "text": [
      "Enter Hour: 10\n",
      "How many hours ahead? 5\n",
      "New Hour: 3 o'clock\n"
     ]
    }
   ],
   "source": [
    "#9 Write a program that asks the user for an hour between 1 and 12 and for how many hours in the future they want to go\n",
    "#print out what the hour will be that many hours into the future.\n",
    "current_hour = int(input( \"Enter Hour: \"))\n",
    "future_hour = int(input( \"How many hours ahead? \"))\n",
    "new_hour = current_hour + future_hour\n",
    "latest_hour = new_hour % 12\n",
    "print(f\"New Hour: {latest_hour} o'clock\")"
   ]
  },
  {
   "cell_type": "code",
   "execution_count": null,
   "id": "4db557cd",
   "metadata": {},
   "outputs": [],
   "source": [
    "#10\n"
   ]
  },
  {
   "cell_type": "code",
   "execution_count": 47,
   "id": "0e986afa",
   "metadata": {},
   "outputs": [
    {
     "name": "stdout",
     "output_type": "stream",
     "text": [
      "Enter weight in KG: 10\n",
      "220.5 Pounds\n"
     ]
    }
   ],
   "source": [
    "#11 Write a program that asks the user to enter a weight in kilograms\n",
    "# The program should convert it to pounds, printing the answer rounded to the nearest tenth of a pound\n",
    "kg = int(input(\"Enter weight in KG: \"))\n",
    "pound = 22.05\n",
    "\n",
    "result = kg * pound\n",
    "\n",
    "print(f\"{result} Pounds\")"
   ]
  },
  {
   "cell_type": "code",
   "execution_count": 27,
   "id": "b2b4c866",
   "metadata": {},
   "outputs": [
    {
     "name": "stdout",
     "output_type": "stream",
     "text": [
      "enter number: 6\n"
     ]
    }
   ],
   "source": [
    "#12 Write a program that asks the user for a number and print out the factorial of that number\n",
    "random_num = int(input( \"enter number: \"))"
   ]
  },
  {
   "cell_type": "code",
   "execution_count": 32,
   "id": "44118c15",
   "metadata": {},
   "outputs": [
    {
     "name": "stdout",
     "output_type": "stream",
     "text": [
      "The factorial of 6 is 720\n"
     ]
    }
   ],
   "source": [
    "num = 6\n",
    "Factorial = 1\n",
    "if num < 0:\n",
    "    print(\"Factorial  does not exist for negative numbers\")\n",
    "elif num == 0:\n",
    "    print(\"Factorial of 0 is 1\")\n",
    "else:\n",
    "    for i in range(1, num + 1):\n",
    "        Factorial = Factorial * i\n",
    "    print(\"The factorial of\", num,\"is\",Factorial)"
   ]
  },
  {
   "cell_type": "code",
   "execution_count": 39,
   "id": "749a2cec",
   "metadata": {},
   "outputs": [
    {
     "name": "stdout",
     "output_type": "stream",
     "text": [
      "enter number: 50\n",
      "0.8660254037844386\n",
      "1.7320508075688767\n",
      "0.8660254037844387\n"
     ]
    }
   ],
   "source": [
    "#13 Write a program that asks the user for a number and then prints out the sine, cosine and tangent of the number\n",
    "random_num = int(input( \"enter number: \"))\n",
    "import math\n",
    "\n",
    "print(math.sin(math.pi/3)) #pi/3 radians is converted to 60 degrees\n",
    "print(math.tan(math.pi/3))\n",
    "print(math.cos(math.pi/6))"
   ]
  },
  {
   "cell_type": "code",
   "execution_count": 56,
   "id": "d7a4ed9c",
   "metadata": {},
   "outputs": [
    {
     "name": "stdout",
     "output_type": "stream",
     "text": [
      "Enter the angle: 30\n",
      "The sine angle:  {0.49999999999999994}\n"
     ]
    }
   ],
   "source": [
    "#14 Write a program that asks the user to enter an angle in degrees and prints out the sine angle\n",
    "degrees = int(input( \"Enter the angle: \"))\n",
    "import math\n",
    "sine = (math.sin(math.radians(degrees)))\n",
    "print(f\"The sine angle: \",{sine})"
   ]
  },
  {
   "cell_type": "markdown",
   "id": "f77f1603",
   "metadata": {},
   "source": [
    "# Assignment 3"
   ]
  },
  {
   "cell_type": "code",
   "execution_count": 48,
   "id": "b5d2ba64",
   "metadata": {},
   "outputs": [
    {
     "name": "stdout",
     "output_type": "stream",
     "text": [
      "Enter lenghth in cm: 100\n",
      "254.0\n"
     ]
    }
   ],
   "source": [
    "#1 write a program that asks the user to enter a length in centimeters. \n",
    "#If the users enters a negative length, the program should the user that the entry is invalid. \n",
    "#Otherwise, the program should convert the length to inches and print out the result. There are 2.54 centimeters in an inch.\n",
    "length = int(input( \"Enter lenghth in cm: \"))\n",
    "inches = float(length) * 2.54\n",
    "if length <=0:\n",
    "    print(\"Invalid parameter\")\n",
    "else:\n",
    "    print(inches)\n",
    "\n"
   ]
  },
  {
   "cell_type": "code",
   "execution_count": 1,
   "id": "e814b1c8",
   "metadata": {},
   "outputs": [
    {
     "name": "stdout",
     "output_type": "stream",
     "text": [
      "Enter temperature_value : 36\n",
      "Fahrenheit(f)/Celsius(c) ? = c\n",
      " your answer is 96.8 farh\n"
     ]
    }
   ],
   "source": [
    "#2 program that asks the user for a temperature .then askes for a unit , celcius or fahrenheit the temperature is in . \n",
    "#Your program now converts to the other unit. The conversions are F = 9/5(C + 32) and C = 5/9(F - 32).\n",
    "number = float(input(\"Enter temperature_value : \"))\n",
    "temperature_unit = input(\"Fahrenheit(f)/Celsius(c) ? = \").lower()\n",
    "if temperature_unit == \"f\" :\n",
    "    celcius  = round(5/9 * (number + 32),2) \n",
    "    print(f\" your answer is {celcius} celcius \")\n",
    "elif temperature_unit == \"c\" :\n",
    "    farh =round(32 + (9/5 * number), 2)\n",
    "    print(f\" your answer is {farh} farh\")\n",
    "else:\n",
    "    print(\"input not understood!!!!\")"
   ]
  },
  {
   "cell_type": "code",
   "execution_count": 2,
   "id": "7a29746c",
   "metadata": {},
   "outputs": [
    {
     "name": "stdout",
     "output_type": "stream",
     "text": [
      "Enter temperature in celcuis: 59\n",
      "The temperature is at its normal range \n"
     ]
    }
   ],
   "source": [
    "#3 Ask the user to enter a temperature in celsius. The program should print a message based on the temperature\n",
    "#If the temperature is less than  -273.15, print that tha temperature is invalid because it is below absolute zero.\n",
    "#If it is exactly -273.15, print that the temperature is absolute 0\n",
    "#If the temperature is between -273.15 and 0, print that the temperature is below freezing.\n",
    "#If it is 0, print that the temperature is at the freezing point.\n",
    "#If it is between 0 and 100, print that the temperature is in the normal range.\n",
    "#If it is 100, print that the temperature is at the boiling point.\n",
    "#If it is above 100, print that the temperature is abvove the boiling point.\n",
    "temperature_in_celcius = float(input(\"Enter temperature in celcuis: \"))\n",
    "if temperature_in_celcius <= -273.15:\n",
    "    print(\"The temperature is invalid because it is below absolute zero\")\n",
    "elif temperature_in_celcius == -273.15:\n",
    "    print(\"The temperature is absoulute zero\")\n",
    "elif temperature_in_celcius == 0:\n",
    "    print(\"The temperature is at freezing point \") \n",
    "elif temperature_in_celcius >0<100:\n",
    "    print(\"The temperature is at its normal range \")\n",
    "elif temperature_in_celcius == 100:\n",
    "    print(\"The temperature is at its boiling point \")\n",
    "elif temperature_in_celcius >= 100:\n",
    "    print(\"The temperature is above the boiling point\")\n",
    "else :\n",
    "    print(\"ERROR\")"
   ]
  },
  {
   "cell_type": "code",
   "execution_count": 3,
   "id": "19ca8362",
   "metadata": {},
   "outputs": [
    {
     "name": "stdout",
     "output_type": "stream",
     "text": [
      "Ënter the total number of credits taken :50\n",
      " The student is a  sophomore \n"
     ]
    }
   ],
   "source": [
    "# 4 write a program that askes the user how many credits they have taken. if they have taken 23 or less, print the student is a freshman \n",
    "#if they have taken between 24 and 53, print that they are sophomore.\n",
    "#The range for juniors is 54 to 84 and, for seniors it is is 84 and over .  \n",
    "\n",
    "credits_taken = float(input(\"Ënter the total number of credits taken :\")) \n",
    "if credits_taken <= 23 :\n",
    "    print(\" The student is a freshman \")\n",
    "elif credits_taken >23<=53 :\n",
    "    print(\" The student is a  sophomore \")\n",
    "elif credits_taken >54<=84 :\n",
    "    print(\" The student is a  Junior \")\n",
    "elif credits_taken >= 84:\n",
    "    print(\" The student is a  Senior \")\n",
    "else :\n",
    "    print(\"Error\")"
   ]
  },
  {
   "cell_type": "markdown",
   "id": "c572f38c",
   "metadata": {},
   "source": [
    "# Assignment 4"
   ]
  },
  {
   "cell_type": "code",
   "execution_count": 59,
   "id": "c14780b5",
   "metadata": {},
   "outputs": [
    {
     "name": "stdout",
     "output_type": "stream",
     "text": [
      "Enter the number: 9\n",
      "The sum of divisors of 9 is 13\n",
      "[1, 3, 9]\n"
     ]
    }
   ],
   "source": [
    "#5 Write a program that asks the user to enter a anumber and prints the sum of the divisors of that number. The sum of the divisors of a number is an important function in the number theory\n",
    "user_response = int(input( \"Enter the number: \"))\n",
    "sum_of_divisors = 0\n",
    "sum_list = []\n",
    "for i in range(1, user_response + 1):\n",
    "    if user_response % i == 0:\n",
    "        sum_list.append(i)\n",
    "        sum_of_divisors = sum_of_divisors + i\n",
    "print(f\"The sum of divisors of {user_response} is {sum_of_divisors}\")\n",
    "print(sum_list)"
   ]
  },
  {
   "cell_type": "code",
   "execution_count": 55,
   "id": "d1737584",
   "metadata": {},
   "outputs": [
    {
     "name": "stdout",
     "output_type": "stream",
     "text": [
      "Enter perfect numbers: 5\n",
      "Enter perfect numbers: 9\n",
      "Enter perfect numbers: 6\n",
      "Enter perfect numbers: 12\n",
      "[5, 9, 6, 12] is not perfect number\n"
     ]
    }
   ],
   "source": [
    "#6 write a program that finds all the four perfect numbers that are less than 10000\n",
    "user_response = [int(input( \"Enter perfect numbers: \")) for i in range (4)]\n",
    "divisors = []\n",
    "perfect = []\n",
    "\n",
    "for i in range(1, len(user_response) + 1 ):\n",
    "    if len(user_response) % i == 0:\n",
    "        divisors.append(i)\n",
    "for k in divisors:\n",
    "    num = k\n",
    "    j = 1\n",
    "    while j < 10000:\n",
    "        perfect.append(num)\n",
    "        \n",
    "        j = j + 1\n",
    "if len(perfect) == 0:\n",
    "    print(f\"{user_response} is perfect number\" )\n",
    "else:\n",
    "    print(f\"{user_response} is not perfect number\" )"
   ]
  },
  {
   "cell_type": "code",
   "execution_count": 56,
   "id": "6826fad4",
   "metadata": {},
   "outputs": [
    {
     "name": "stdout",
     "output_type": "stream",
     "text": [
      "Enter the integer: 45\n",
      "[1, 3, 5, 9, 15, 45]\n",
      "45 is not squarefree\n"
     ]
    }
   ],
   "source": [
    "#7 write a program that asks the user for an integer and tells them if it is squarefree or not\n",
    "user_response = int(input( \"Enter the integer: \"))\n",
    "divisors = []\n",
    "perfect = []\n",
    "for i in range(1, user_response + 1):\n",
    "    if user_response % i == 0:\n",
    "        divisors.append(i)\n",
    "print(divisors)\n",
    "for k in divisors:\n",
    "    num = k\n",
    "    j = 1\n",
    "    while j < num:\n",
    "        perfect.append(num)\n",
    "        \n",
    "        j = j + 1\n",
    "if len(perfect) == 0:\n",
    "    print(f\"{user_response} is squarefree\" )\n",
    "else:\n",
    "    print(f\"{user_response} is not squarefree\" )"
   ]
  },
  {
   "cell_type": "code",
   "execution_count": 57,
   "id": "b1ee559a",
   "metadata": {},
   "outputs": [
    {
     "name": "stdout",
     "output_type": "stream",
     "text": [
      "Enter value of x: 9\n",
      "Enter value of y: 7\n",
      "Enter value of z: 8\n",
      "7\n",
      "8\n",
      "9\n"
     ]
    }
   ],
   "source": [
    "#8 Write a program that swaps the values of three variables x, y and z, so that x gets the value of y, y gets the value of z and z gets the value of x\n",
    "x = int(input( \"Enter value of x: \"))\n",
    "y = int(input( \"Enter value of y: \"))\n",
    "z = int(input( \"Enter value of z: \"))\n",
    "placeholder = x\n",
    "x = y\n",
    "y = z\n",
    "z = placeholder\n",
    "print(x)\n",
    "print(y)\n",
    "print(z)"
   ]
  },
  {
   "cell_type": "code",
   "execution_count": null,
   "id": "ee7a8e2b",
   "metadata": {},
   "outputs": [],
   "source": [
    "#9 write a program to count how many integers from 1 to 1000 are not perfect squares, perfect cubes and perfect fifth powers\n"
   ]
  },
  {
   "cell_type": "code",
   "execution_count": 47,
   "id": "f2a70e8c",
   "metadata": {},
   "outputs": [
    {
     "name": "stdout",
     "output_type": "stream",
     "text": [
      "Enter scores: 55\n",
      "Enter scores: 89\n",
      "Enter scores: 98\n",
      "Enter scores: 44\n",
      "Enter scores: 34\n",
      "Enter scores: 23\n",
      "Enter scores: 76\n",
      "Enter scores: 2\n",
      "Enter scores: 20\n",
      "Enter scores: 55\n",
      "highest score =  98\n"
     ]
    }
   ],
   "source": [
    "#10 Ask the user to enter ten scores, write a program to do the following:\n",
    "scores = [int(input(\"Enter scores: \")) for i in range(10)]\n",
    "highest_score = scores[1]\n",
    "#lowest_score = scores[10]\n",
    "for score in range(0, len(scores)):\n",
    "    if scores[score] > highest_score:\n",
    "        highest_score = scores[score]\n",
    "print (\"highest score = \", highest_score)\n",
    "#print (\"lowest score = \", lowest_score)"
   ]
  },
  {
   "cell_type": "code",
   "execution_count": null,
   "id": "5103b5d9",
   "metadata": {},
   "outputs": [],
   "source": []
  }
 ],
 "metadata": {
  "kernelspec": {
   "display_name": "Python 3 (ipykernel)",
   "language": "python",
   "name": "python3"
  },
  "language_info": {
   "codemirror_mode": {
    "name": "ipython",
    "version": 3
   },
   "file_extension": ".py",
   "mimetype": "text/x-python",
   "name": "python",
   "nbconvert_exporter": "python",
   "pygments_lexer": "ipython3",
   "version": "3.9.7"
  }
 },
 "nbformat": 4,
 "nbformat_minor": 5
}
